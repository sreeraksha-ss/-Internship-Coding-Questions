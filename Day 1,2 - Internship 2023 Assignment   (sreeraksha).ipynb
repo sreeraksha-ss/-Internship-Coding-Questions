{
 "cells": [
  {
   "cell_type": "markdown",
   "id": "60fdab43",
   "metadata": {},
   "source": [
    "## Python Dictionary assignment"
   ]
  },
  {
   "cell_type": "markdown",
   "id": "ea553d17",
   "metadata": {},
   "source": [
    "### 1.write a python program to create an empty dictionary"
   ]
  },
  {
   "cell_type": "code",
   "execution_count": 55,
   "id": "294f4eb5",
   "metadata": {},
   "outputs": [],
   "source": [
    "c={}\n",
    "#type(c)"
   ]
  },
  {
   "cell_type": "code",
   "execution_count": 56,
   "id": "804b6b79",
   "metadata": {},
   "outputs": [],
   "source": [
    "my_dictionary=dict()\n",
    "#print(type(my_dictionary))"
   ]
  },
  {
   "cell_type": "markdown",
   "id": "56ee8106",
   "metadata": {},
   "source": [
    "### 2. write a python program to add key value pair to the dictionary"
   ]
  },
  {
   "cell_type": "code",
   "execution_count": 57,
   "id": "94e18169",
   "metadata": {},
   "outputs": [
    {
     "name": "stdout",
     "output_type": "stream",
     "text": [
      "{'DAY1': 'PYTHON_LIST', 'DAY2': 'PYTHON_STRINGS', 'DAY3': 'PYTHON_TUPLE'}\n"
     ]
    }
   ],
   "source": [
    "c={'DAY1':'PYTHON_LIST','DAY2':'PYTHON_STRINGS'} \n",
    "c['DAY3']='PYTHON_TUPLE'\n",
    "print(c)"
   ]
  },
  {
   "cell_type": "code",
   "execution_count": 58,
   "id": "3f5c10ff",
   "metadata": {},
   "outputs": [
    {
     "data": {
      "text/plain": [
       "{'DAY1': 'PYTHON_LIST',\n",
       " 'DAY2': 'PYTHON_STRINGS',\n",
       " 'DAY3': 'PYTHON_TUPLE',\n",
       " 'DAY4': 'PYTHON_SET'}"
      ]
     },
     "execution_count": 58,
     "metadata": {},
     "output_type": "execute_result"
    }
   ],
   "source": [
    "c.update({'DAY4':'PYTHON_SET'})   # to update 1 value \n",
    "c"
   ]
  },
  {
   "cell_type": "code",
   "execution_count": 59,
   "id": "5f728a46",
   "metadata": {},
   "outputs": [
    {
     "name": "stdout",
     "output_type": "stream",
     "text": [
      "Enter the key value:DAY5\n",
      "Enter the corresponding valuePYTHON_DICTIONARY\n",
      "{'DAY1': 'PYTHON_LIST', 'DAY2': 'PYTHON_STRINGS', 'DAY3': 'PYTHON_TUPLE', 'DAY4': 'PYTHON_SET', 'DAY5': 'PYTHON_DICTIONARY'}\n"
     ]
    }
   ],
   "source": [
    "for i,j in c.items():             #updating from user\n",
    "    a=str(input('Enter the key value:'))\n",
    "    b=str(input('Enter the corresponding value'))\n",
    "    c.update({a:b})\n",
    "    break;\n",
    "print(c)"
   ]
  },
  {
   "cell_type": "markdown",
   "id": "6c66ac01",
   "metadata": {},
   "source": [
    "###  3.write a python program to remove a key value pair to the dictionary"
   ]
  },
  {
   "cell_type": "code",
   "execution_count": 60,
   "id": "d217a069",
   "metadata": {},
   "outputs": [
    {
     "data": {
      "text/plain": [
       "{'DAY1': 'PYTHON_LIST',\n",
       " 'DAY2': 'PYTHON_STRINGS',\n",
       " 'DAY3': 'PYTHON_TUPLE',\n",
       " 'DAY5': 'PYTHON_DICTIONARY'}"
      ]
     },
     "execution_count": 60,
     "metadata": {},
     "output_type": "execute_result"
    }
   ],
   "source": [
    "# note removing key value pair is done with the help of key only\n",
    "\n",
    "del c['DAY4']\n",
    "c"
   ]
  },
  {
   "cell_type": "code",
   "execution_count": 61,
   "id": "cf7470a1",
   "metadata": {},
   "outputs": [
    {
     "name": "stdout",
     "output_type": "stream",
     "text": [
      "To remove the pair enter the key value:DAY3\n",
      "{'DAY1': 'PYTHON_LIST', 'DAY2': 'PYTHON_STRINGS', 'DAY3': 'PYTHON_TUPLE', 'DAY5': 'PYTHON_DICTIONARY'}\n"
     ]
    }
   ],
   "source": [
    "n=str(input('To remove the pair enter the key value:'))\n",
    "for i in c.keys():\n",
    "    if i==n:\n",
    "        del c[i]\n",
    "    break;\n",
    "print(c)\n"
   ]
  },
  {
   "cell_type": "markdown",
   "id": "26127237",
   "metadata": {},
   "source": [
    "### 4.Write a Python program to check if a key exists in a dictionary."
   ]
  },
  {
   "cell_type": "code",
   "execution_count": 62,
   "id": "81d3446f",
   "metadata": {},
   "outputs": [
    {
     "data": {
      "text/plain": [
       "{'DAY1': 'PYTHON_LIST',\n",
       " 'DAY2': 'PYTHON_STRINGS',\n",
       " 'DAY3': 'PYTHON_TUPLE',\n",
       " 'DAY5': 'PYTHON_DICTIONARY'}"
      ]
     },
     "execution_count": 62,
     "metadata": {},
     "output_type": "execute_result"
    }
   ],
   "source": [
    "c"
   ]
  },
  {
   "cell_type": "code",
   "execution_count": 64,
   "id": "157e8aeb",
   "metadata": {},
   "outputs": [
    {
     "name": "stdout",
     "output_type": "stream",
     "text": [
      "enter your key:DAY3\n",
      "The Key you entered dosent exist\n"
     ]
    }
   ],
   "source": [
    "t=str(input('enter your key:'))\n",
    "for i in c.keys():\n",
    "    if i == t:\n",
    "        print(\"The key you entered Exists\")\n",
    "    else:\n",
    "        print('The Key you entered dosent exist')\n",
    "    break;"
   ]
  },
  {
   "cell_type": "code",
   "execution_count": 141,
   "id": "0d3d16fd",
   "metadata": {},
   "outputs": [
    {
     "name": "stdout",
     "output_type": "stream",
     "text": [
      "enter your key:DAY5\n",
      "['True']\n"
     ]
    }
   ],
   "source": [
    "t=str(input('enter your key:'))\n",
    "s=['True' if t in c.keys() else 'false' ]\n",
    "print (s) # doubt"
   ]
  },
  {
   "cell_type": "markdown",
   "id": "f5076e03",
   "metadata": {},
   "source": [
    "### 5. Write a Python program to iterate over the keys and values of a dictionary."
   ]
  },
  {
   "cell_type": "code",
   "execution_count": null,
   "id": "5a6cf133",
   "metadata": {},
   "outputs": [],
   "source": [
    "#method 1\n",
    "for i,j in c.items():\n",
    "    print(c.keys(),c.values())\n",
    "    break;"
   ]
  },
  {
   "cell_type": "code",
   "execution_count": 52,
   "id": "5f0f2d4d",
   "metadata": {},
   "outputs": [],
   "source": [
    "#method 2\n",
    "\n",
    "for i in c.keys():\n",
    "     print(i)\n",
    "for j in c.values():\n",
    "     print(j)\n",
    "for i,j in c.items():\n",
    "    print(i,j)\n",
    "    "
   ]
  },
  {
   "cell_type": "markdown",
   "id": "a2e3b682",
   "metadata": {},
   "source": [
    "### 6.write a python program to find the length of a dictionary\n"
   ]
  },
  {
   "cell_type": "code",
   "execution_count": 65,
   "id": "a86010c9",
   "metadata": {},
   "outputs": [
    {
     "data": {
      "text/plain": [
       "4"
      ]
     },
     "execution_count": 65,
     "metadata": {},
     "output_type": "execute_result"
    }
   ],
   "source": [
    "# method 1\n",
    "len(c)"
   ]
  },
  {
   "cell_type": "code",
   "execution_count": 67,
   "id": "19e7d3ca",
   "metadata": {},
   "outputs": [
    {
     "name": "stdout",
     "output_type": "stream",
     "text": [
      "4\n"
     ]
    }
   ],
   "source": [
    "#method 2\n",
    "for i in c:\n",
    "    print(len(c))\n",
    "    break;\n",
    "    "
   ]
  },
  {
   "cell_type": "markdown",
   "id": "7a3ec666",
   "metadata": {},
   "source": [
    "### 7.Write a python program to merge two dictonaries"
   ]
  },
  {
   "cell_type": "code",
   "execution_count": 76,
   "id": "b5138e48",
   "metadata": {},
   "outputs": [
    {
     "data": {
      "text/plain": [
       "{'DAY1': 'PYTHON_LIST',\n",
       " 'DAY2': 'PYTHON_STRINGS',\n",
       " 'DAY3': 'PYTHON_TUPLE',\n",
       " 'DAY5': 'PYTHON_DICTIONARY'}"
      ]
     },
     "execution_count": 76,
     "metadata": {},
     "output_type": "execute_result"
    }
   ],
   "source": [
    "#dictionary 1\n",
    "c"
   ]
  },
  {
   "cell_type": "code",
   "execution_count": 77,
   "id": "d5d8bfda",
   "metadata": {},
   "outputs": [
    {
     "name": "stdout",
     "output_type": "stream",
     "text": [
      "{'DAY4': 'PYTHON_SETS', 'DAY5': 'LIST_COMPREHENSION', 'dAY6': 'DICTIONARY_COMPREHENSION'}\n"
     ]
    }
   ],
   "source": [
    "#dictionary 2\n",
    "d={}\n",
    "d['DAY4']='PYTHON_SETS'\n",
    "d['DAY5']='LIST_COMPREHENSION'\n",
    "d['dAY6']='DICTIONARY_COMPREHENSION'\n",
    "print(d)\n"
   ]
  },
  {
   "cell_type": "code",
   "execution_count": 88,
   "id": "25ace19d",
   "metadata": {},
   "outputs": [
    {
     "name": "stdout",
     "output_type": "stream",
     "text": [
      "{'DAY1': 'PYTHON_LIST', 'DAY2': 'PYTHON_STRINGS', 'DAY3': 'PYTHON_TUPLE', 'DAY5': 'LIST_COMPREHENSION', 'DAY4': 'PYTHON_SETS', 'dAY6': 'DICTIONARY_COMPREHENSION'}\n"
     ]
    }
   ],
   "source": [
    "#method 1\n",
    "e=c|d         # e is merged dictionary\n",
    "print(e) "
   ]
  },
  {
   "cell_type": "code",
   "execution_count": 89,
   "id": "1ec35dc7",
   "metadata": {},
   "outputs": [
    {
     "name": "stdout",
     "output_type": "stream",
     "text": [
      "{'DAY1': 'PYTHON_LIST', 'DAY2': 'PYTHON_STRINGS', 'DAY3': 'PYTHON_TUPLE', 'DAY5': 'LIST_COMPREHENSION', 'DAY4': 'PYTHON_SETS', 'dAY6': 'DICTIONARY_COMPREHENSION'}\n"
     ]
    }
   ],
   "source": [
    "#method 2 \n",
    "\n",
    "f={**c,**d}\n",
    "print(f)"
   ]
  },
  {
   "cell_type": "code",
   "execution_count": 90,
   "id": "a2cbbb83",
   "metadata": {},
   "outputs": [
    {
     "name": "stdout",
     "output_type": "stream",
     "text": [
      "{'DAY1': 'PYTHON_LIST', 'DAY2': 'PYTHON_STRINGS', 'DAY3': 'PYTHON_TUPLE', 'DAY5': 'PYTHON_DICTIONARY'}\n"
     ]
    }
   ],
   "source": [
    "print(c)"
   ]
  },
  {
   "cell_type": "code",
   "execution_count": 91,
   "id": "d3127ab2",
   "metadata": {},
   "outputs": [
    {
     "name": "stdout",
     "output_type": "stream",
     "text": [
      "{'DAY4': 'PYTHON_SETS', 'DAY5': 'LIST_COMPREHENSION', 'dAY6': 'DICTIONARY_COMPREHENSION'}\n"
     ]
    }
   ],
   "source": [
    "print(d)"
   ]
  },
  {
   "cell_type": "code",
   "execution_count": 92,
   "id": "dc911412",
   "metadata": {},
   "outputs": [
    {
     "name": "stdout",
     "output_type": "stream",
     "text": [
      "{'DAY1': 'PYTHON_LIST', 'DAY2': 'PYTHON_STRINGS', 'DAY3': 'PYTHON_TUPLE', 'DAY5': 'LIST_COMPREHENSION', 'DAY4': 'PYTHON_SETS', 'dAY6': 'DICTIONARY_COMPREHENSION'}\n"
     ]
    }
   ],
   "source": [
    "#method 3\n",
    "c.update(d)\n",
    "print(c)"
   ]
  },
  {
   "cell_type": "markdown",
   "id": "7ea6dbdd",
   "metadata": {},
   "source": [
    "### 8.write a python program to find maximum and minimum values in a dictionary"
   ]
  },
  {
   "cell_type": "code",
   "execution_count": 124,
   "id": "c2b245b7",
   "metadata": {},
   "outputs": [
    {
     "name": "stdout",
     "output_type": "stream",
     "text": [
      "(3, 1)\n"
     ]
    }
   ],
   "source": [
    "x={'a':1, 'b': 2, 'c': 2, 'd': 3}\n",
    "def max_min(d):\n",
    "    values = list(d.values())\n",
    "    return (max(values), min(values))\n",
    "print(max_min(x))"
   ]
  },
  {
   "cell_type": "markdown",
   "id": "1b019b2d",
   "metadata": {},
   "source": [
    "### 9.Write a python program to count the occurances of each value in dictionary"
   ]
  },
  {
   "cell_type": "code",
   "execution_count": 111,
   "id": "d134c2b0",
   "metadata": {},
   "outputs": [
    {
     "data": {
      "text/plain": [
       "{'DAY1': 'PYTHON_LIST',\n",
       " 'DAY2': 'PYTHON_STRINGS',\n",
       " 'DAY3': 'PYTHON_TUPLE',\n",
       " 'DAY5': 'LIST_COMPREHENSION',\n",
       " 'DAY4': 'PYTHON_SETS',\n",
       " 'dAY6': 'DICTIONARY_COMPREHENSION',\n",
       " 'DAY7': 'PYTHON_SETS'}"
      ]
     },
     "execution_count": 111,
     "metadata": {},
     "output_type": "execute_result"
    }
   ],
   "source": [
    "e\n",
    "e['DAY7']= 'PYTHON_SETS'\n",
    "e"
   ]
  },
  {
   "cell_type": "code",
   "execution_count": 112,
   "id": "86e549bf",
   "metadata": {},
   "outputs": [
    {
     "name": "stdout",
     "output_type": "stream",
     "text": [
      "{'PYTHON_LIST': 1, 'PYTHON_STRINGS': 1, 'PYTHON_TUPLE': 1, 'LIST_COMPREHENSION': 1, 'PYTHON_SETS': 2, 'DICTIONARY_COMPREHENSION': 1}\n"
     ]
    }
   ],
   "source": [
    "#method1\n",
    "def occurances(c):\n",
    "    occur = {}\n",
    "    for i in c.values():\n",
    "        if i in occur:\n",
    "            occur[i] +=1\n",
    "        else:\n",
    "            occur[i] =1\n",
    "    return occur\n",
    "    \n",
    "print(occurances(e))"
   ]
  },
  {
   "cell_type": "code",
   "execution_count": 107,
   "id": "0b24c436",
   "metadata": {},
   "outputs": [
    {
     "name": "stdout",
     "output_type": "stream",
     "text": [
      "{'PYTHON_LIST': 1, 'PYTHON_STRINGS': 1, 'PYTHON_TUPLE': 1, 'LIST_COMPREHENSION': 1, 'PYTHON_SETS': 1, 'DICTIONARY_COMPREHENSION': 1}\n"
     ]
    }
   ],
   "source": [
    "#method 2\n",
    "from collections import Counter \n",
    "def occurances(d):\n",
    "    return dict(Counter(d.values()))\n",
    "print(occurances(e))"
   ]
  },
  {
   "cell_type": "markdown",
   "id": "2caa3c35",
   "metadata": {},
   "source": [
    "### 10. Write a Python program to sort a dictionary by its values"
   ]
  },
  {
   "cell_type": "code",
   "execution_count": 125,
   "id": "7cf0a2ea",
   "metadata": {},
   "outputs": [
    {
     "data": {
      "text/plain": [
       "{'DAY1': 'PYTHON_LIST',\n",
       " 'DAY2': 'PYTHON_STRINGS',\n",
       " 'DAY3': 'PYTHON_TUPLE',\n",
       " 'DAY5': 'LIST_COMPREHENSION',\n",
       " 'DAY4': 'PYTHON_SETS',\n",
       " 'dAY6': 'DICTIONARY_COMPREHENSION',\n",
       " 'DAY7': 'PYTHON_SETS'}"
      ]
     },
     "execution_count": 125,
     "metadata": {},
     "output_type": "execute_result"
    }
   ],
   "source": [
    "e"
   ]
  },
  {
   "cell_type": "code",
   "execution_count": 128,
   "id": "8c994216",
   "metadata": {},
   "outputs": [
    {
     "data": {
      "text/plain": [
       "['DICTIONARY_COMPREHENSION',\n",
       " 'LIST_COMPREHENSION',\n",
       " 'PYTHON_LIST',\n",
       " 'PYTHON_SETS',\n",
       " 'PYTHON_SETS',\n",
       " 'PYTHON_STRINGS',\n",
       " 'PYTHON_TUPLE']"
      ]
     },
     "execution_count": 128,
     "metadata": {},
     "output_type": "execute_result"
    }
   ],
   "source": [
    "def sorting(d):\n",
    "    values=list(d.values())\n",
    "    return sorted(values)\n",
    "sorting(e)"
   ]
  },
  {
   "cell_type": "code",
   "execution_count": 145,
   "id": "33f49ef5",
   "metadata": {},
   "outputs": [
    {
     "name": "stdout",
     "output_type": "stream",
     "text": [
      "['DICTIONARY_COMPREHENSION', 'LIST_COMPREHENSION', 'PYTHON_LIST', 'PYTHON_SETS', 'PYTHON_SETS', 'PYTHON_STRINGS', 'PYTHON_TUPLE']\n"
     ]
    },
    {
     "data": {
      "text/plain": [
       "list"
      ]
     },
     "execution_count": 145,
     "metadata": {},
     "output_type": "execute_result"
    }
   ],
   "source": [
    "Sorting=sorted(e.values())   #sorted converted to list\n",
    "print(Sorting)\n",
    "type(Sorting)"
   ]
  },
  {
   "cell_type": "markdown",
   "id": "4391f22f",
   "metadata": {},
   "source": [
    "# Python tuple assignment"
   ]
  },
  {
   "cell_type": "markdown",
   "id": "165cbd31",
   "metadata": {},
   "source": [
    "### 1. Write a Python program to create an empty tuple.\n"
   ]
  },
  {
   "cell_type": "code",
   "execution_count": 148,
   "id": "133ab218",
   "metadata": {},
   "outputs": [
    {
     "name": "stdout",
     "output_type": "stream",
     "text": [
      "()\n"
     ]
    }
   ],
   "source": [
    "#method 1\n",
    "\n",
    "tuple_=()\n",
    "print(tuple_)"
   ]
  },
  {
   "cell_type": "markdown",
   "id": "dc5f259a",
   "metadata": {},
   "source": [
    "### 2.Write a Python program to access the elements of a tuple.\n",
    "\n"
   ]
  },
  {
   "cell_type": "code",
   "execution_count": 162,
   "id": "b507f467",
   "metadata": {},
   "outputs": [
    {
     "name": "stdout",
     "output_type": "stream",
     "text": [
      "10\n"
     ]
    }
   ],
   "source": [
    "mytuple= (10 , 20 , 30)\n",
    "print(mytuple[0])"
   ]
  },
  {
   "cell_type": "code",
   "execution_count": 161,
   "id": "d926d3ce",
   "metadata": {},
   "outputs": [
    {
     "name": "stdout",
     "output_type": "stream",
     "text": [
      "10\n",
      "20\n",
      "30\n"
     ]
    }
   ],
   "source": [
    "for i in mytuple:\n",
    "    print(i)"
   ]
  },
  {
   "cell_type": "markdown",
   "id": "a66eff29",
   "metadata": {},
   "source": [
    "### 3.Write a Python program to concatenate two tuples"
   ]
  },
  {
   "cell_type": "code",
   "execution_count": 163,
   "id": "80c9dc80",
   "metadata": {},
   "outputs": [
    {
     "name": "stdout",
     "output_type": "stream",
     "text": [
      "(10, 20, 30, 30, 40, 50, 60)\n"
     ]
    }
   ],
   "source": [
    "mytuple1= (10 , 20 , 30)\n",
    "mytuple2=(30,40,50,60)\n",
    "print(mytuple1+mytuple2)"
   ]
  },
  {
   "cell_type": "code",
   "execution_count": 164,
   "id": "1cd7de95",
   "metadata": {},
   "outputs": [],
   "source": [
    "def concatenate_tuples(c,d):\n",
    "    return tuple(c)+tuple(d)"
   ]
  },
  {
   "cell_type": "code",
   "execution_count": 166,
   "id": "8f8b8e87",
   "metadata": {},
   "outputs": [
    {
     "data": {
      "text/plain": [
       "(10, 20, 30, 30, 40, 50, 60)"
      ]
     },
     "execution_count": 166,
     "metadata": {},
     "output_type": "execute_result"
    }
   ],
   "source": [
    "concatenate_tuples(mytuple1,mytuple2)"
   ]
  },
  {
   "cell_type": "markdown",
   "id": "3bef005c",
   "metadata": {},
   "source": [
    "### 4.Write a Python program to find the length of a tuple."
   ]
  },
  {
   "cell_type": "code",
   "execution_count": 167,
   "id": "39777662",
   "metadata": {},
   "outputs": [
    {
     "data": {
      "text/plain": [
       "3"
      ]
     },
     "execution_count": 167,
     "metadata": {},
     "output_type": "execute_result"
    }
   ],
   "source": [
    "len(mytuple1)"
   ]
  },
  {
   "cell_type": "code",
   "execution_count": 168,
   "id": "e22e0f27",
   "metadata": {},
   "outputs": [
    {
     "name": "stdout",
     "output_type": "stream",
     "text": [
      "4\n"
     ]
    }
   ],
   "source": [
    "def tuple_len(d):\n",
    "    return len(d)\n",
    "print(tuple_len(mytuple2))"
   ]
  },
  {
   "cell_type": "markdown",
   "id": "fc5c15f6",
   "metadata": {},
   "source": [
    "### 5. Write a Python program to convert a tuple into a list."
   ]
  },
  {
   "cell_type": "code",
   "execution_count": 170,
   "id": "7a9423e5",
   "metadata": {},
   "outputs": [
    {
     "name": "stdout",
     "output_type": "stream",
     "text": [
      "[10, 20, 30]\n"
     ]
    }
   ],
   "source": [
    "tupleto_list=list(mytuple1)\n",
    "print(tupleto_list)"
   ]
  },
  {
   "cell_type": "code",
   "execution_count": 171,
   "id": "efe87a91",
   "metadata": {},
   "outputs": [
    {
     "name": "stdout",
     "output_type": "stream",
     "text": [
      "[30, 40, 50, 60]\n"
     ]
    }
   ],
   "source": [
    "def tupletolist(d):\n",
    "    return list(d)\n",
    "print(tupletolist(mytuple2))"
   ]
  },
  {
   "cell_type": "markdown",
   "id": "c3dbc7a1",
   "metadata": {},
   "source": [
    "### 6. Write a Python program to find the maximum and minimum elements in a tuple"
   ]
  },
  {
   "cell_type": "code",
   "execution_count": 176,
   "id": "274894b5",
   "metadata": {},
   "outputs": [],
   "source": [
    "def tuple_max_min(f):\n",
    "    return max(f),min(f)"
   ]
  },
  {
   "cell_type": "code",
   "execution_count": 177,
   "id": "902d7c50",
   "metadata": {},
   "outputs": [
    {
     "name": "stdout",
     "output_type": "stream",
     "text": [
      "(60, 30)\n"
     ]
    }
   ],
   "source": [
    "print(tuple_max_min(mytuple2))"
   ]
  },
  {
   "cell_type": "markdown",
   "id": "1b5948a9",
   "metadata": {},
   "source": [
    " ### 7.Write a Python program to check if an element exists in a tuple."
   ]
  },
  {
   "cell_type": "code",
   "execution_count": 180,
   "id": "00fee4d4",
   "metadata": {},
   "outputs": [
    {
     "data": {
      "text/plain": [
       "(10, 20, 30)"
      ]
     },
     "execution_count": 180,
     "metadata": {},
     "output_type": "execute_result"
    }
   ],
   "source": [
    "mytuple1"
   ]
  },
  {
   "cell_type": "code",
   "execution_count": null,
   "id": "5424b9b5",
   "metadata": {},
   "outputs": [],
   "source": [
    "if 10 in mytuple1:\n",
    "    print('Element exists')\n",
    "else:\n",
    "    print('Element does not exist')"
   ]
  },
  {
   "cell_type": "markdown",
   "id": "432c80b9",
   "metadata": {},
   "source": [
    "### 8. Write a Python program to count the number of occurrences of an element in a tuple."
   ]
  },
  {
   "cell_type": "code",
   "execution_count": 195,
   "id": "86e0dc15",
   "metadata": {},
   "outputs": [
    {
     "name": "stdout",
     "output_type": "stream",
     "text": [
      "3\n"
     ]
    }
   ],
   "source": [
    "t = (1, 2, 3, 2, 4, 2)\n",
    "count = t.count(2)\n",
    "print(count)"
   ]
  },
  {
   "cell_type": "markdown",
   "id": "68b809a9",
   "metadata": {},
   "source": [
    "### 9.Write a Python program to slice a tuple."
   ]
  },
  {
   "cell_type": "code",
   "execution_count": 196,
   "id": "5f3a8ffe",
   "metadata": {},
   "outputs": [
    {
     "name": "stdout",
     "output_type": "stream",
     "text": [
      "(20, 30, 40)\n"
     ]
    }
   ],
   "source": [
    "g = (10, 20, 30, 40, 50,[10,20],'Hello')\n",
    "sliced_g = []\n",
    "for i in range(1, 4):\n",
    "    sliced_g.append(g[i])\n",
    "print(tuple(sliced_g))"
   ]
  },
  {
   "cell_type": "markdown",
   "id": "ef2f351f",
   "metadata": {},
   "source": [
    "### 10.Write a Python program to unpack a tuple into multiple variables."
   ]
  },
  {
   "cell_type": "code",
   "execution_count": 199,
   "id": "5d486533",
   "metadata": {},
   "outputs": [
    {
     "name": "stdout",
     "output_type": "stream",
     "text": [
      "unpack 1\n",
      "unpack2\n",
      "adress\n",
      "destination\n"
     ]
    }
   ],
   "source": [
    "unpack = ('unpack 1', 'unpack2', 'adress','destination')\n",
    "(column1, column2,column3,column4) =unpack\n",
    "print(column1)\n",
    "print(column2)\n",
    "print(column3)\n",
    "print(column4)"
   ]
  },
  {
   "cell_type": "markdown",
   "id": "0b880f74",
   "metadata": {},
   "source": [
    "# Python set assignment"
   ]
  },
  {
   "cell_type": "markdown",
   "id": "a7718c22",
   "metadata": {},
   "source": [
    "### 1.Write a Python program to create an empty set."
   ]
  },
  {
   "cell_type": "code",
   "execution_count": 219,
   "id": "82034950",
   "metadata": {},
   "outputs": [],
   "source": [
    "s=({})"
   ]
  },
  {
   "cell_type": "markdown",
   "id": "049ad6c8",
   "metadata": {},
   "source": [
    "### 2.Write a Python program to check if two sets are equal."
   ]
  },
  {
   "cell_type": "code",
   "execution_count": 221,
   "id": "9b09a3eb",
   "metadata": {},
   "outputs": [
    {
     "name": "stdout",
     "output_type": "stream",
     "text": [
      "The sets are not equal\n"
     ]
    }
   ],
   "source": [
    "set1 = {1, 2, 3}\n",
    "set2 = {3, 2, 1,4}\n",
    "\n",
    "if set1 == set2:\n",
    "    print('The sets are equal')\n",
    "else:\n",
    "    print('The sets are not equal')"
   ]
  },
  {
   "cell_type": "markdown",
   "id": "6f9d868c",
   "metadata": {},
   "source": [
    "### 3. Write a Python program to add an element to a set."
   ]
  },
  {
   "cell_type": "code",
   "execution_count": 225,
   "id": "b99b890c",
   "metadata": {},
   "outputs": [
    {
     "name": "stdout",
     "output_type": "stream",
     "text": [
      "enter the element you want to add:6\n",
      "{1, 2, 3, '6'}\n"
     ]
    }
   ],
   "source": [
    "set1 = {1, 2, 3}\n",
    "s=input('enter the element you want to add:')\n",
    "set1.add(s)\n",
    "print(set1)"
   ]
  },
  {
   "cell_type": "markdown",
   "id": "b754d451",
   "metadata": {},
   "source": [
    "### 4.Write a Python program to remove an element from a set."
   ]
  },
  {
   "cell_type": "code",
   "execution_count": 230,
   "id": "ffcc88f0",
   "metadata": {},
   "outputs": [
    {
     "name": "stdout",
     "output_type": "stream",
     "text": [
      "enter the element you want to remove:5\n",
      "{1, 2, 3, 4, 6, 7, 8, 9, 10}\n"
     ]
    }
   ],
   "source": [
    "set1 = {1, 2, 3,4,5,6,7,8,9,10}\n",
    "s=int(input('enter the element you want to remove:'))\n",
    "set1.remove(s)\n",
    "print(set1)"
   ]
  },
  {
   "cell_type": "markdown",
   "id": "48b52133",
   "metadata": {},
   "source": [
    "### 5.Write a Python program to find the  union of two sets."
   ]
  },
  {
   "cell_type": "code",
   "execution_count": 231,
   "id": "bd575aa6",
   "metadata": {},
   "outputs": [
    {
     "data": {
      "text/plain": [
       "{1, 2, 3, 4, 5, 6, 7, 8, 9, 10, 11, 12, 34, 69, 340}"
      ]
     },
     "execution_count": 231,
     "metadata": {},
     "output_type": "execute_result"
    }
   ],
   "source": [
    "a={1,2,3,4,5,6,7,8,9,10,3,4,5,8,9,11,12}\n",
    "b={34,6,8,5,4,69,2,340,5,3,6,1,6,2,9}\n",
    "a.union(b)"
   ]
  },
  {
   "cell_type": "markdown",
   "id": "f63552b2",
   "metadata": {},
   "source": [
    "### 6.Write a Python program to find the intersection of two sets."
   ]
  },
  {
   "cell_type": "code",
   "execution_count": 232,
   "id": "543752ca",
   "metadata": {},
   "outputs": [
    {
     "data": {
      "text/plain": [
       "{1, 2, 3, 4, 5, 6, 8, 9}"
      ]
     },
     "execution_count": 232,
     "metadata": {},
     "output_type": "execute_result"
    }
   ],
   "source": [
    "a={1,2,3,4,5,6,7,8,9,10,3,4,5,8,9,11,12}\n",
    "b={34,6,8,5,4,69,2,340,5,3,6,1,6,2,9}\n",
    "a.intersection(b)"
   ]
  },
  {
   "cell_type": "markdown",
   "id": "394f7277",
   "metadata": {},
   "source": [
    "###  7. Write a Python program to find the difference between two sets."
   ]
  },
  {
   "cell_type": "code",
   "execution_count": 236,
   "id": "4e3f603d",
   "metadata": {},
   "outputs": [
    {
     "name": "stdout",
     "output_type": "stream",
     "text": [
      "{10, 11, 12, 7}\n",
      "{10, 11, 12, 7}\n"
     ]
    }
   ],
   "source": [
    "a={1,2,3,4,5,6,7,8,9,10,3,4,5,8,9,11,12}\n",
    "b={34,6,8,5,4,69,2,340,5,3,6,1,6,2,9}\n",
    "\n",
    "print(a-b) # prints all elements in a that are not in b\n",
    "print(a.difference(b))"
   ]
  },
  {
   "cell_type": "code",
   "execution_count": 2,
   "id": "dcedd048",
   "metadata": {},
   "outputs": [
    {
     "name": "stdout",
     "output_type": "stream",
     "text": [
      "{34, 340, 69}\n",
      "{34, 340, 69}\n"
     ]
    }
   ],
   "source": [
    "a={1,2,3,4,5,6,7,8,9,10,3,4,5,8,9,11,12}\n",
    "b={34,6,8,5,4,69,2,340,5,3,6,1,6,2,9}\n",
    "\n",
    "print(b-a)# prints all elements in b that are not in a\n",
    "print(b.difference(a))"
   ]
  },
  {
   "cell_type": "markdown",
   "id": "daec2fef",
   "metadata": {},
   "source": [
    "### 8.Write a Python program to check if a set is a subset of another set."
   ]
  },
  {
   "cell_type": "code",
   "execution_count": 3,
   "id": "2e1e6243",
   "metadata": {},
   "outputs": [
    {
     "name": "stdout",
     "output_type": "stream",
     "text": [
      "set1 is not a subset of set2\n"
     ]
    }
   ],
   "source": [
    "if a.issubset(b):\n",
    "    print(\"set1 is a subset of set2\")\n",
    "else:\n",
    "    print(\"set1 is not a subset of set2\")"
   ]
  },
  {
   "cell_type": "markdown",
   "id": "bd554af4",
   "metadata": {},
   "source": [
    "### 9.Write a Python program to remove all duplicate elements from a set."
   ]
  },
  {
   "cell_type": "code",
   "execution_count": 14,
   "id": "e933fc17",
   "metadata": {},
   "outputs": [
    {
     "data": {
      "text/plain": [
       "{1, 2, 3}"
      ]
     },
     "execution_count": 14,
     "metadata": {},
     "output_type": "execute_result"
    }
   ],
   "source": [
    "# all emenets in a set are unique \n",
    "a={1,2,3,3,2,3,1}\n",
    "d=set(a) # can just use the set method to remove duplicate  elements\n",
    "d"
   ]
  },
  {
   "cell_type": "code",
   "execution_count": 16,
   "id": "acea805a",
   "metadata": {},
   "outputs": [
    {
     "name": "stdout",
     "output_type": "stream",
     "text": [
      "{0, 1, 2, 3, 4, 5, 100, 7, 8, 77, 90}\n"
     ]
    }
   ],
   "source": [
    "aset={1 ,3,5,7,8,2,3,4,5,7,90,0,8,77,2,3,5,8,90,100}\n",
    "bset=set(bset)\n",
    "for i in aset:\n",
    "    if i not in bset:\n",
    "        bset.add(i)\n",
    "print(bset)\n"
   ]
  },
  {
   "cell_type": "markdown",
   "id": "808b50a6",
   "metadata": {},
   "source": [
    "### 10.Write a Python program to find the maximum and minimum elements in a set."
   ]
  },
  {
   "cell_type": "code",
   "execution_count": 134,
   "id": "906c7117",
   "metadata": {},
   "outputs": [
    {
     "name": "stdout",
     "output_type": "stream",
     "text": [
      "Maximum element is: 340   Minimum element is: 1\n"
     ]
    }
   ],
   "source": [
    "b={34,6,8,5,4,69,2,340,5,3,6,1,6,2,9}\n",
    "for i in b:\n",
    "    print('Maximum element is:',max(b), ' ','Minimum element is:',min(b))\n",
    "    break;"
   ]
  },
  {
   "cell_type": "markdown",
   "id": "acb8a9f3",
   "metadata": {},
   "source": [
    "# Python String Assignment"
   ]
  },
  {
   "cell_type": "markdown",
   "id": "c932a6a6",
   "metadata": {},
   "source": [
    "### 1.Question 1: Write a Python program to count the number of characters in a string "
   ]
  },
  {
   "cell_type": "code",
   "execution_count": 17,
   "id": "6d03fa66",
   "metadata": {},
   "outputs": [
    {
     "name": "stdout",
     "output_type": "stream",
     "text": [
      "enter the string:  raksha sree\n",
      "the number of charectors are: 10\n"
     ]
    }
   ],
   "source": [
    "string=input(\"enter the string:  \")\n",
    "count=0\n",
    "for i in string:\n",
    "    if i != \" \":\n",
    "        count += 1\n",
    "print(\"the number of charectors are:\", count)\n"
   ]
  },
  {
   "cell_type": "markdown",
   "id": "9d103522",
   "metadata": {},
   "source": [
    "### 2.Write a Python program to reverse a string"
   ]
  },
  {
   "cell_type": "code",
   "execution_count": 19,
   "id": "55014878",
   "metadata": {},
   "outputs": [
    {
     "name": "stdout",
     "output_type": "stream",
     "text": [
      "enter the string:  Raksha SRee\n",
      "eeRS ahskaR\n"
     ]
    }
   ],
   "source": [
    "string=str(input(\"enter the string:  \"))# reverse string throuch slicing\n",
    "print(string[::-1])"
   ]
  },
  {
   "cell_type": "markdown",
   "id": "13e822a9",
   "metadata": {},
   "source": [
    "### 3.Write a Python program to check if a string is a palindrome"
   ]
  },
  {
   "cell_type": "code",
   "execution_count": 25,
   "id": "699969ac",
   "metadata": {},
   "outputs": [
    {
     "name": "stdout",
     "output_type": "stream",
     "text": [
      "enter the string:racecar\n",
      "string is palindrome\n"
     ]
    }
   ],
   "source": [
    "n=input(\"enter the string:\")\n",
    "n=n.lower()\n",
    "if n[::1]== n[::-1]:\n",
    "    print('string is palindrome')\n",
    "else:\n",
    "    print ('string is not palindrme')"
   ]
  },
  {
   "cell_type": "markdown",
   "id": "aa673d8a",
   "metadata": {},
   "source": [
    "### 4. Write a Python program to find the most common character in a string"
   ]
  },
  {
   "cell_type": "code",
   "execution_count": 28,
   "id": "04e72cdf",
   "metadata": {},
   "outputs": [
    {
     "name": "stdout",
     "output_type": "stream",
     "text": [
      "enter the string:  yale and yatch\n",
      "The most common character is: a\n"
     ]
    }
   ],
   "source": [
    "string = str(input(\"enter the string:  \"))\n",
    "most_common_charactor = \"\"\n",
    "most_common_char_count = 0\n",
    "for char in string:\n",
    "    count = string.count(char)\n",
    "    if count > most_common_char_count:\n",
    "        most_common_charactor = char\n",
    "        most_common_char_count = count\n",
    "\n",
    "print(\"The most common character is:\", most_common_charactor)"
   ]
  },
  {
   "cell_type": "markdown",
   "id": "cf9618bd",
   "metadata": {},
   "source": [
    "### 5.  Write a Python program to check if two strings are anagrams."
   ]
  },
  {
   "cell_type": "code",
   "execution_count": 34,
   "id": "cc0b030d",
   "metadata": {},
   "outputs": [
    {
     "name": "stdout",
     "output_type": "stream",
     "text": [
      "Enter string one: listen\n",
      "Enter string two: silent\n",
      "The strings are anagrams\n"
     ]
    }
   ],
   "source": [
    "string1=str(input('Enter string one: '))\n",
    "string2=str(input('Enter string two: '))\n",
    "if len(string1) != len(string2):\n",
    "    print(\"The strings are not anagrams\")\n",
    "else:\n",
    "    if all([string1.count(char) == string2.count(char) for char in string1]):\n",
    "        print(\"The strings are anagrams\")\n",
    "    else:\n",
    "        print(\"The strings are not anagrams\")"
   ]
  },
  {
   "cell_type": "code",
   "execution_count": null,
   "id": "5b6775cf",
   "metadata": {},
   "outputs": [],
   "source": []
  },
  {
   "cell_type": "markdown",
   "id": "f84c17e8",
   "metadata": {},
   "source": [
    "### 6.Write a Python program to remove all the vowels from a string"
   ]
  },
  {
   "cell_type": "code",
   "execution_count": 37,
   "id": "b3ca921b",
   "metadata": {},
   "outputs": [],
   "source": [
    "def remove_vowels(n):\n",
    "    vowels='aeiouAEIOU'\n",
    "    newstring=''\n",
    "    for i in n:\n",
    "        if i not in vowels:\n",
    "            newstring += i\n",
    "    return newstring\n",
    "    "
   ]
  },
  {
   "cell_type": "code",
   "execution_count": 38,
   "id": "7c5166f5",
   "metadata": {},
   "outputs": [
    {
     "data": {
      "text/plain": [
       "'rkshsr'"
      ]
     },
     "execution_count": 38,
     "metadata": {},
     "output_type": "execute_result"
    }
   ],
   "source": [
    "remove_vowels('rakshasree')"
   ]
  },
  {
   "cell_type": "code",
   "execution_count": 44,
   "id": "d2d6a590",
   "metadata": {},
   "outputs": [],
   "source": [
    "import re\n",
    "\n",
    "def remove_vowels(string):\n",
    "    return re.sub('[aeiouAEIOU]', '', string)"
   ]
  },
  {
   "cell_type": "code",
   "execution_count": 45,
   "id": "3293d8f1",
   "metadata": {},
   "outputs": [
    {
     "data": {
      "text/plain": [
       "'frsjvdfrh'"
      ]
     },
     "execution_count": 45,
     "metadata": {},
     "output_type": "execute_result"
    }
   ],
   "source": [
    "remove_vowels('forsjvidfouaerhe')"
   ]
  },
  {
   "cell_type": "markdown",
   "id": "073dc814",
   "metadata": {},
   "source": [
    "### 7. Write a Python program to find the longest word in a string"
   ]
  },
  {
   "cell_type": "code",
   "execution_count": 55,
   "id": "9e334676",
   "metadata": {},
   "outputs": [],
   "source": [
    "def longestword(n):\n",
    "    word=n.split()\n",
    "    longword=('')\n",
    "    for i in word:\n",
    "        if len(word)>len(longword):\n",
    "            longword=word\n",
    "    return longword"
   ]
  },
  {
   "cell_type": "code",
   "execution_count": 56,
   "id": "c8beeb22",
   "metadata": {},
   "outputs": [
    {
     "name": "stdout",
     "output_type": "stream",
     "text": [
      "['sreeraksha']\n"
     ]
    }
   ],
   "source": [
    "print(longestword('sreeraksha'))"
   ]
  },
  {
   "cell_type": "markdown",
   "id": "ae9b8673",
   "metadata": {},
   "source": [
    "### 8. Write a Python program to capitalize the first letter of each word in a string"
   ]
  },
  {
   "cell_type": "code",
   "execution_count": 59,
   "id": "988e00c5",
   "metadata": {},
   "outputs": [
    {
     "name": "stdout",
     "output_type": "stream",
     "text": [
      "enter a sentense:hello madam good evening\n",
      "Hello Madam Good Evening\n"
     ]
    }
   ],
   "source": [
    "string=str(input(\"enter a sentense:\"))\n",
    "print(string.title())"
   ]
  },
  {
   "cell_type": "markdown",
   "id": "9e4be626",
   "metadata": {},
   "source": [
    "### 9.Write a Python program to find the frequency of each character in a string."
   ]
  },
  {
   "cell_type": "code",
   "execution_count": 60,
   "id": "4fdbf4e8",
   "metadata": {},
   "outputs": [],
   "source": [
    "def count_characters(string):\n",
    "    char_count = {}\n",
    "    for char in string:\n",
    "        if char in char_count:\n",
    "            char_count[char] += 1\n",
    "        else:\n",
    "            char_count[char] = 1\n",
    "    return char_count"
   ]
  },
  {
   "cell_type": "code",
   "execution_count": 63,
   "id": "4674bdf7",
   "metadata": {},
   "outputs": [
    {
     "data": {
      "text/plain": [
       "{'h': 1}"
      ]
     },
     "execution_count": 63,
     "metadata": {},
     "output_type": "execute_result"
    }
   ],
   "source": [
    "count_characters('hello my name is raksha')"
   ]
  },
  {
   "cell_type": "code",
   "execution_count": 71,
   "id": "4209d702",
   "metadata": {},
   "outputs": [],
   "source": [
    "def count_charactors(string):\n",
    "    return {char: string.count(char) for char in string}"
   ]
  },
  {
   "cell_type": "code",
   "execution_count": 72,
   "id": "b182b71d",
   "metadata": {},
   "outputs": [
    {
     "data": {
      "text/plain": [
       "{'t': 2,\n",
       " 'h': 1,\n",
       " 'i': 3,\n",
       " 's': 2,\n",
       " ' ': 2,\n",
       " 'b': 1,\n",
       " 'e': 1,\n",
       " 'a': 1,\n",
       " 'u': 2,\n",
       " 'f': 1,\n",
       " 'l': 1}"
      ]
     },
     "execution_count": 72,
     "metadata": {},
     "output_type": "execute_result"
    }
   ],
   "source": [
    "count_charactors('this is beautiful')"
   ]
  },
  {
   "cell_type": "markdown",
   "id": "fc7ed7a0",
   "metadata": {},
   "source": [
    "### 10.Write a Python program to check if a string is a valid email address"
   ]
  },
  {
   "cell_type": "code",
   "execution_count": 74,
   "id": "72cacf2b",
   "metadata": {},
   "outputs": [],
   "source": [
    "def is_valid_email(email):\n",
    "    if '@' not in email:\n",
    "        return False\n",
    "    parts = email.split('@')\n",
    "    if len(parts) != 2:\n",
    "        return False\n",
    "    if '.' not in parts[1]:\n",
    "        return False\n",
    "    return True"
   ]
  },
  {
   "cell_type": "code",
   "execution_count": 75,
   "id": "7466c8b5",
   "metadata": {},
   "outputs": [
    {
     "data": {
      "text/plain": [
       "True"
      ]
     },
     "execution_count": 75,
     "metadata": {},
     "output_type": "execute_result"
    }
   ],
   "source": [
    "is_valid_email('salera.raksha@gmail.com')"
   ]
  },
  {
   "cell_type": "markdown",
   "id": "2f3cd58c",
   "metadata": {},
   "source": [
    "# Python Lists Assignment"
   ]
  },
  {
   "cell_type": "markdown",
   "id": "222d2998",
   "metadata": {},
   "source": [
    "### 1: Write a Python program to count the number of elements in a list"
   ]
  },
  {
   "cell_type": "code",
   "execution_count": 92,
   "id": "27defdd7",
   "metadata": {},
   "outputs": [
    {
     "data": {
      "text/plain": [
       "7"
      ]
     },
     "execution_count": 92,
     "metadata": {},
     "output_type": "execute_result"
    }
   ],
   "source": [
    "len(list1)"
   ]
  },
  {
   "cell_type": "code",
   "execution_count": 90,
   "id": "95f41a2a",
   "metadata": {},
   "outputs": [],
   "source": [
    "list1=[1,2,34,5,6.8,78,'jhsdch']\n",
    "def count_elements(n):\n",
    "    return len(list1)"
   ]
  },
  {
   "cell_type": "code",
   "execution_count": 91,
   "id": "99693135",
   "metadata": {},
   "outputs": [
    {
     "name": "stdout",
     "output_type": "stream",
     "text": [
      "7\n"
     ]
    }
   ],
   "source": [
    "print(count_elements(list1))"
   ]
  },
  {
   "cell_type": "markdown",
   "id": "2430433b",
   "metadata": {},
   "source": [
    "### 2: Write a Python program to find the maximum and minimum values in a given list."
   ]
  },
  {
   "cell_type": "code",
   "execution_count": 87,
   "id": "79b6a1d4",
   "metadata": {},
   "outputs": [
    {
     "name": "stdout",
     "output_type": "stream",
     "text": [
      "78 1\n"
     ]
    }
   ],
   "source": [
    "list1=[1,2,34,5,6.8,78]\n",
    "for i in list1:\n",
    "    print(max(list1),min(list1))\n",
    "    break;"
   ]
  },
  {
   "cell_type": "code",
   "execution_count": 95,
   "id": "762e4689",
   "metadata": {},
   "outputs": [
    {
     "data": {
      "text/plain": [
       "(78, 1)"
      ]
     },
     "execution_count": 95,
     "metadata": {},
     "output_type": "execute_result"
    }
   ],
   "source": [
    "list1=[1,2,34,5,6.8,78,2,4,6,8,6.8,5]\n",
    "def minmax(i):\n",
    "    return max(i),min(i)\n",
    "minmax(list1)"
   ]
  },
  {
   "cell_type": "markdown",
   "id": "e9db84f0",
   "metadata": {},
   "source": [
    "### 3: Write a Python program to remove the first occurrence of a specified element from a list."
   ]
  },
  {
   "cell_type": "code",
   "execution_count": 97,
   "id": "a006d94f",
   "metadata": {},
   "outputs": [],
   "source": [
    "list1=[1,2,34,5,6.8,78,2,4,6,8,6.8,5]   #doubt\n",
    "def remove1occurance(n):\n",
    "    for i in n:\n",
    "        if n.count(i)>2:\n",
    "            del n[0]\n",
    "    return n"
   ]
  },
  {
   "cell_type": "code",
   "execution_count": 98,
   "id": "d1e87085",
   "metadata": {},
   "outputs": [
    {
     "name": "stdout",
     "output_type": "stream",
     "text": [
      "[1, 2, 34, 5, 6.8, 78, 2, 4, 6, 8, 6.8, 5]\n"
     ]
    }
   ],
   "source": [
    "print(remove1occurance(list1))"
   ]
  },
  {
   "cell_type": "code",
   "execution_count": 106,
   "id": "e31dfecf",
   "metadata": {},
   "outputs": [
    {
     "name": "stdout",
     "output_type": "stream",
     "text": [
      "[1, 34, 78, 4, 6, 8, 6.8, 5]\n"
     ]
    }
   ],
   "source": [
    "list1.pop(2)\n",
    "print(list1)"
   ]
  },
  {
   "cell_type": "code",
   "execution_count": 107,
   "id": "db9c2390",
   "metadata": {},
   "outputs": [
    {
     "data": {
      "text/plain": [
       "[1, 4, 5, 6, 6.8, 8, 34, 78]"
      ]
     },
     "execution_count": 107,
     "metadata": {},
     "output_type": "execute_result"
    }
   ],
   "source": [
    "sorted(list1)"
   ]
  },
  {
   "cell_type": "markdown",
   "id": "6aeb2db2",
   "metadata": {},
   "source": [
    "### 4: Write a Python program to find the average of all the elements in a list."
   ]
  },
  {
   "cell_type": "code",
   "execution_count": 109,
   "id": "1833548a",
   "metadata": {},
   "outputs": [
    {
     "name": "stdout",
     "output_type": "stream",
     "text": [
      "Average is : 17.85\n"
     ]
    }
   ],
   "source": [
    "def avg(n):\n",
    "    return (sum(n)/len(n))\n",
    "n=[1, 4, 5, 6, 6.8, 8, 34, 78]\n",
    "print ('Average is :',avg(n))"
   ]
  },
  {
   "cell_type": "markdown",
   "id": "d4d09409",
   "metadata": {},
   "source": [
    "### 5: Write a Python program to check if a list is empty or not."
   ]
  },
  {
   "cell_type": "code",
   "execution_count": 110,
   "id": "3db1f912",
   "metadata": {},
   "outputs": [
    {
     "name": "stdout",
     "output_type": "stream",
     "text": [
      "List is empty\n"
     ]
    }
   ],
   "source": [
    "list1=[]\n",
    "\n",
    "if list1== []:\n",
    "    print('List is empty')\n",
    "else:\n",
    "    print('List is not empty')"
   ]
  },
  {
   "cell_type": "markdown",
   "id": "0a157173",
   "metadata": {},
   "source": [
    "### 6: Write a Python program to find the  index of a specified element in a list."
   ]
  },
  {
   "cell_type": "code",
   "execution_count": 111,
   "id": "b9410901",
   "metadata": {},
   "outputs": [
    {
     "name": "stdout",
     "output_type": "stream",
     "text": [
      "The index of 6.8 in the list is: 4\n",
      "The index of 6.8 in the list is: 10\n"
     ]
    }
   ],
   "source": [
    "lst = [1, 2, 34, 5, 6.8, 78, 2, 4, 6, 8, 6.8, 5]\n",
    "element= 6.8\n",
    "for i in range(len(lst)):\n",
    "    if lst[i] == element:\n",
    "        print(\"The index of\", element, \"in the list is:\", i)\n",
    "   "
   ]
  },
  {
   "cell_type": "code",
   "execution_count": 112,
   "id": "faed1209",
   "metadata": {},
   "outputs": [
    {
     "name": "stdout",
     "output_type": "stream",
     "text": [
      "The index of 6.8 in the list is: 4\n"
     ]
    }
   ],
   "source": [
    "index = lst.index(element)\n",
    "print(\"The index of\", element, \"in the list is:\", index)"
   ]
  },
  {
   "cell_type": "markdown",
   "id": "7a0e190d",
   "metadata": {},
   "source": [
    "### 7: Write a Python program to concatenate two lists."
   ]
  },
  {
   "cell_type": "code",
   "execution_count": 114,
   "id": "19cb0585",
   "metadata": {},
   "outputs": [
    {
     "name": "stdout",
     "output_type": "stream",
     "text": [
      "[1, 2, 34, 5, 6.8, 78, 10, 20, 30, 40]\n"
     ]
    }
   ],
   "source": [
    "list1=[1,2,34,5,6.8,78]\n",
    "list2=[10,20,30,40]\n",
    "#method1\n",
    "list1.extend(list2)\n",
    "print(list1)"
   ]
  },
  {
   "cell_type": "code",
   "execution_count": 115,
   "id": "6b31fd5a",
   "metadata": {},
   "outputs": [
    {
     "data": {
      "text/plain": [
       "[1, 2, 34, 5, 6.8, 78, 10, 20, 30, 40, 10, 20, 30, 40]"
      ]
     },
     "execution_count": 115,
     "metadata": {},
     "output_type": "execute_result"
    }
   ],
   "source": [
    "#method2\n",
    "concat=list1+list2\n",
    "concat"
   ]
  },
  {
   "cell_type": "code",
   "execution_count": 116,
   "id": "35cdedcf",
   "metadata": {},
   "outputs": [
    {
     "name": "stdout",
     "output_type": "stream",
     "text": [
      "[1, 2, 34, 5, 6.8, 78, 10, 20, 30, 40, 10, 20, 30, 40]\n"
     ]
    }
   ],
   "source": [
    "# method3\n",
    "for i in list2:\n",
    "    list1.append(i)\n",
    "print(list1)"
   ]
  },
  {
   "cell_type": "markdown",
   "id": "1d1a0885",
   "metadata": {},
   "source": [
    "### 8: Write a Python program to find the common elements between two lists."
   ]
  },
  {
   "cell_type": "code",
   "execution_count": 117,
   "id": "4dddcd51",
   "metadata": {},
   "outputs": [
    {
     "data": {
      "text/plain": [
       "[3, 4, 5]"
      ]
     },
     "execution_count": 117,
     "metadata": {},
     "output_type": "execute_result"
    }
   ],
   "source": [
    "lit1=[1,2,3,4,5]\n",
    "lit2=[3,4,5,6,7]\n",
    "common=list(set(lit1).intersection(lit2))\n",
    "common"
   ]
  },
  {
   "cell_type": "code",
   "execution_count": 118,
   "id": "f924992d",
   "metadata": {},
   "outputs": [
    {
     "name": "stdout",
     "output_type": "stream",
     "text": [
      "[3, 4, 5]\n"
     ]
    }
   ],
   "source": [
    "c=[]\n",
    "for i in lit1:\n",
    "    if i in lit2:\n",
    "        c.append(i)\n",
    "print(c)"
   ]
  },
  {
   "cell_type": "markdown",
   "id": "f7ab4dc2",
   "metadata": {},
   "source": [
    "### 9: Write a Python program to remove the duplicates from a list while preserving the order of elements."
   ]
  },
  {
   "cell_type": "code",
   "execution_count": 119,
   "id": "e94c5427",
   "metadata": {},
   "outputs": [],
   "source": [
    "def removeduplicates(n):\n",
    "    non_duplicate_list=[]\n",
    "    for i in n:\n",
    "        if i not in non_duplicate_list:\n",
    "            non_duplicate_list.append(i)\n",
    "    return non_duplicate_list"
   ]
  },
  {
   "cell_type": "code",
   "execution_count": 120,
   "id": "6847ade2",
   "metadata": {},
   "outputs": [
    {
     "name": "stdout",
     "output_type": "stream",
     "text": [
      "[1, 2, 34, 5, 6.8, 78, 4, 6, 8]\n"
     ]
    }
   ],
   "source": [
    "lst = [1, 2, 34, 5, 6.8, 78, 2, 4, 6, 8, 6.8, 5]\n",
    "print( removeduplicates(lst))"
   ]
  },
  {
   "cell_type": "markdown",
   "id": "acfbf785",
   "metadata": {},
   "source": [
    "### 10: Write a Python program to sort a list  of strings in alphabetical order."
   ]
  },
  {
   "cell_type": "code",
   "execution_count": 130,
   "id": "d41cecc8",
   "metadata": {},
   "outputs": [
    {
     "name": "stdout",
     "output_type": "stream",
     "text": [
      "['Chandrayaan-3', 'Countdown', 'India’s', 'Moon mission', 'all', 'begins', 'for', 'know', 'need', 'third', 'to', 'you']\n"
     ]
    }
   ],
   "source": [
    "\n",
    "mylist=['Chandrayaan-3','Countdown','begins','for','India’s','third','Moon mission','all','you','need','to','know']\n",
    "new_list=sorted(mylist)\n",
    "print(new_list)"
   ]
  },
  {
   "cell_type": "code",
   "execution_count": null,
   "id": "6e124487",
   "metadata": {},
   "outputs": [],
   "source": [
    "# doubt in list Q10\n",
    "#listQ3"
   ]
  }
 ],
 "metadata": {
  "kernelspec": {
   "display_name": "Python 3 (ipykernel)",
   "language": "python",
   "name": "python3"
  },
  "language_info": {
   "codemirror_mode": {
    "name": "ipython",
    "version": 3
   },
   "file_extension": ".py",
   "mimetype": "text/x-python",
   "name": "python",
   "nbconvert_exporter": "python",
   "pygments_lexer": "ipython3",
   "version": "3.9.12"
  }
 },
 "nbformat": 4,
 "nbformat_minor": 5
}
